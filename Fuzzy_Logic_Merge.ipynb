{
  "nbformat": 4,
  "nbformat_minor": 0,
  "metadata": {
    "colab": {
      "name": "Untitled3.ipynb",
      "provenance": [],
      "authorship_tag": "ABX9TyOVx49MiqukJ68DUq0avAwm",
      "include_colab_link": true
    },
    "kernelspec": {
      "name": "python3",
      "display_name": "Python 3"
    },
    "language_info": {
      "name": "python"
    }
  },
  "cells": [
    {
      "cell_type": "markdown",
      "metadata": {
        "id": "view-in-github",
        "colab_type": "text"
      },
      "source": [
        "<a href=\"https://colab.research.google.com/github/sundeeptangirala/training/blob/main/Fuzzy_Logic_Merge.ipynb\" target=\"_parent\"><img src=\"https://colab.research.google.com/assets/colab-badge.svg\" alt=\"Open In Colab\"/></a>"
      ]
    },
    {
      "cell_type": "code",
      "metadata": {
        "colab": {
          "base_uri": "https://localhost:8080/"
        },
        "id": "hKy0cpi1Mp7h",
        "outputId": "cb14a349-670b-4edc-eb82-03e9c5e1a0d8"
      },
      "source": [
        "pip install recordlinkage"
      ],
      "execution_count": 2,
      "outputs": [
        {
          "output_type": "stream",
          "text": [
            "Collecting recordlinkage\n",
            "\u001b[?25l  Downloading https://files.pythonhosted.org/packages/db/26/babbca39d74824e8bc17428a8eb04951a1d63318af7d02beeb2106a1ec26/recordlinkage-0.14-py3-none-any.whl (944kB)\n",
            "\u001b[K     |████████████████████████████████| 952kB 5.8MB/s \n",
            "\u001b[?25hRequirement already satisfied: numpy>=1.13.0 in /usr/local/lib/python3.7/dist-packages (from recordlinkage) (1.19.5)\n",
            "Requirement already satisfied: pandas>=0.23 in /usr/local/lib/python3.7/dist-packages (from recordlinkage) (1.1.5)\n",
            "Requirement already satisfied: scikit-learn>=0.19.0 in /usr/local/lib/python3.7/dist-packages (from recordlinkage) (0.22.2.post1)\n",
            "Collecting jellyfish>=0.5.4\n",
            "\u001b[?25l  Downloading https://files.pythonhosted.org/packages/30/a6/4d039bc827a102f62ce7a7910713e38fdfd7c7a40aa39c72fb14938a1473/jellyfish-0.8.2-cp37-cp37m-manylinux2014_x86_64.whl (90kB)\n",
            "\u001b[K     |████████████████████████████████| 92kB 8.2MB/s \n",
            "\u001b[?25hRequirement already satisfied: joblib in /usr/local/lib/python3.7/dist-packages (from recordlinkage) (1.0.1)\n",
            "Requirement already satisfied: scipy>=1 in /usr/local/lib/python3.7/dist-packages (from recordlinkage) (1.4.1)\n",
            "Requirement already satisfied: python-dateutil>=2.7.3 in /usr/local/lib/python3.7/dist-packages (from pandas>=0.23->recordlinkage) (2.8.1)\n",
            "Requirement already satisfied: pytz>=2017.2 in /usr/local/lib/python3.7/dist-packages (from pandas>=0.23->recordlinkage) (2018.9)\n",
            "Requirement already satisfied: six>=1.5 in /usr/local/lib/python3.7/dist-packages (from python-dateutil>=2.7.3->pandas>=0.23->recordlinkage) (1.15.0)\n",
            "Installing collected packages: jellyfish, recordlinkage\n",
            "Successfully installed jellyfish-0.8.2 recordlinkage-0.14\n"
          ],
          "name": "stdout"
        }
      ]
    },
    {
      "cell_type": "code",
      "metadata": {
        "id": "FOxvwVDuMPqn"
      },
      "source": [
        "import pandas as pd\n",
        "import recordlinkage"
      ],
      "execution_count": 3,
      "outputs": []
    },
    {
      "cell_type": "code",
      "metadata": {
        "id": "1t6ySDpmM1jm"
      },
      "source": [
        "\n",
        "hospital_accounts = pd.read_csv('hospital_account_info.csv', index_col='Account_Num')\n",
        "hospital_reimbursement = pd.read_csv('hospital_reimbursement.csv', index_col='Provider_Num')"
      ],
      "execution_count": 5,
      "outputs": []
    },
    {
      "cell_type": "code",
      "metadata": {
        "colab": {
          "base_uri": "https://localhost:8080/"
        },
        "id": "1o2yWwIbM5J9",
        "outputId": "8e3a0617-8f63-4743-df17-18960dd9a355"
      },
      "source": [
        "indexer = recordlinkage.Index()\n",
        "indexer.full()"
      ],
      "execution_count": 6,
      "outputs": [
        {
          "output_type": "stream",
          "text": [
            "WARNING:recordlinkage:indexing - performance warning - A full index can result in large number of record pairs.\n"
          ],
          "name": "stdout"
        },
        {
          "output_type": "execute_result",
          "data": {
            "text/plain": [
              "<Index>"
            ]
          },
          "metadata": {
            "tags": []
          },
          "execution_count": 6
        }
      ]
    },
    {
      "cell_type": "code",
      "metadata": {
        "colab": {
          "base_uri": "https://localhost:8080/"
        },
        "id": "bL6wsLcQNDvD",
        "outputId": "6d2bd18f-d3c4-4233-ad6d-e5f36d691882"
      },
      "source": [
        "candidates = indexer.index(hospital_accounts, hospital_reimbursement)\n",
        "print(len(candidates))"
      ],
      "execution_count": 7,
      "outputs": [
        {
          "output_type": "stream",
          "text": [
            "14399283\n"
          ],
          "name": "stdout"
        }
      ]
    },
    {
      "cell_type": "code",
      "metadata": {
        "id": "prZnmXKNNGlJ"
      },
      "source": [
        "compare = recordlinkage.Compare()\n",
        "compare.exact('City', 'Provider City', label='City')\n",
        "compare.string('Facility Name',\n",
        "            'Provider Name',\n",
        "            threshold=0.85,\n",
        "            label='Hosp_Name')\n",
        "compare.string('Address',\n",
        "            'Provider Street Address',\n",
        "            method='jarowinkler',\n",
        "            threshold=0.85,\n",
        "            label='Hosp_Address')\n",
        "features = compare.compute(candidates, hospital_accounts,\n",
        "                        hospital_reimbursement)"
      ],
      "execution_count": 8,
      "outputs": []
    },
    {
      "cell_type": "code",
      "metadata": {
        "colab": {
          "base_uri": "https://localhost:8080/"
        },
        "id": "pth3HMHyOgih",
        "outputId": "97e4d3ae-56e7-4aeb-e613-8de84633da4c"
      },
      "source": [
        "indexer = recordlinkage.Index()\n",
        "indexer.block(left_on='State', right_on='Provider State')\n",
        "candidates = indexer.index(hospital_accounts, hospital_reimbursement)\n",
        "print(len(candidates))"
      ],
      "execution_count": 9,
      "outputs": [
        {
          "output_type": "stream",
          "text": [
            "475830\n"
          ],
          "name": "stdout"
        }
      ]
    },
    {
      "cell_type": "code",
      "metadata": {
        "colab": {
          "base_uri": "https://localhost:8080/"
        },
        "id": "G7Wwrvs8Onpb",
        "outputId": "2836db8c-896f-451f-b292-989f8428efa1"
      },
      "source": [
        "indexer = recordlinkage.Index()\n",
        "indexer.sortedneighbourhood(left_on='State', right_on='Provider State')\n",
        "candidates = indexer.index(hospital_accounts, hospital_reimbursement)\n",
        "print(len(candidates))"
      ],
      "execution_count": 10,
      "outputs": [
        {
          "output_type": "stream",
          "text": [
            "998860\n"
          ],
          "name": "stdout"
        }
      ]
    },
    {
      "cell_type": "code",
      "metadata": {
        "colab": {
          "base_uri": "https://localhost:8080/"
        },
        "id": "P6B-NKkePEnr",
        "outputId": "27d2059a-5981-4027-fd0c-0f821b263028"
      },
      "source": [
        "features.sum(axis=1).value_counts().sort_index(ascending=False)"
      ],
      "execution_count": 11,
      "outputs": [
        {
          "output_type": "execute_result",
          "data": {
            "text/plain": [
              "3.0        2285\n",
              "2.0         474\n",
              "1.0       22262\n",
              "0.0    14374262\n",
              "dtype: int64"
            ]
          },
          "metadata": {
            "tags": []
          },
          "execution_count": 11
        }
      ]
    },
    {
      "cell_type": "code",
      "metadata": {
        "id": "LM9fD8tCPIE-"
      },
      "source": [
        "potential_matches = features[features.sum(axis=1) > 1].reset_index()\n",
        "potential_matches['Score'] = potential_matches.loc[:, 'City':'Hosp_Address'].sum(axis=1)"
      ],
      "execution_count": 12,
      "outputs": []
    },
    {
      "cell_type": "code",
      "metadata": {
        "id": "IQ3_Air4PSMe"
      },
      "source": [
        "hospital_accounts['Acct_Name_Lookup'] = hospital_accounts[[\n",
        "    'Facility Name', 'Address', 'City', 'State'\n",
        "]].apply(lambda x: '_'.join(x), axis=1)\n",
        "\n",
        "hospital_reimbursement['Reimbursement_Name_Lookup'] = hospital_reimbursement[[\n",
        "    'Provider Name', 'Provider Street Address', 'Provider City',\n",
        "    'Provider State'\n",
        "]].apply(lambda x: '_'.join(x), axis=1)\n",
        "\n",
        "account_lookup = hospital_accounts[['Acct_Name_Lookup']].reset_index()\n",
        "reimbursement_lookup = hospital_reimbursement[['Reimbursement_Name_Lookup']].reset_index()"
      ],
      "execution_count": 13,
      "outputs": []
    },
    {
      "cell_type": "code",
      "metadata": {
        "id": "SUPqotooPVng"
      },
      "source": [
        "account_merge = potential_matches.merge(account_lookup, how='left')"
      ],
      "execution_count": 14,
      "outputs": []
    },
    {
      "cell_type": "code",
      "metadata": {
        "id": "tvvJjghhPZOq"
      },
      "source": [
        "final_merge = account_merge.merge(reimbursement_lookup, how='left')"
      ],
      "execution_count": 15,
      "outputs": []
    },
    {
      "cell_type": "code",
      "metadata": {
        "colab": {
          "base_uri": "https://localhost:8080/",
          "height": 419
        },
        "id": "pkSHUQABPbaw",
        "outputId": "1bc13373-028b-4a78-ba42-62f42288f479"
      },
      "source": [
        "cols = ['Account_Num', 'Provider_Num', 'Score',\n",
        "        'Acct_Name_Lookup', 'Reimbursement_Name_Lookup']\n",
        "final_merge[cols].sort_values(by=['Account_Num', 'Score'], ascending=False)"
      ],
      "execution_count": 16,
      "outputs": [
        {
          "output_type": "execute_result",
          "data": {
            "text/html": [
              "<div>\n",
              "<style scoped>\n",
              "    .dataframe tbody tr th:only-of-type {\n",
              "        vertical-align: middle;\n",
              "    }\n",
              "\n",
              "    .dataframe tbody tr th {\n",
              "        vertical-align: top;\n",
              "    }\n",
              "\n",
              "    .dataframe thead th {\n",
              "        text-align: right;\n",
              "    }\n",
              "</style>\n",
              "<table border=\"1\" class=\"dataframe\">\n",
              "  <thead>\n",
              "    <tr style=\"text-align: right;\">\n",
              "      <th></th>\n",
              "      <th>Account_Num</th>\n",
              "      <th>Provider_Num</th>\n",
              "      <th>Score</th>\n",
              "      <th>Acct_Name_Lookup</th>\n",
              "      <th>Reimbursement_Name_Lookup</th>\n",
              "    </tr>\n",
              "  </thead>\n",
              "  <tbody>\n",
              "    <tr>\n",
              "      <th>2384</th>\n",
              "      <td>94995</td>\n",
              "      <td>825914</td>\n",
              "      <td>3.0</td>\n",
              "      <td>CLAIBORNE MEDICAL CENTER_1850 OLD KNOXVILLE HI...</td>\n",
              "      <td>CLAIBORNE MEDICAL CENTER_1850 OLD KNOXVILLE HI...</td>\n",
              "    </tr>\n",
              "    <tr>\n",
              "      <th>1869</th>\n",
              "      <td>94953</td>\n",
              "      <td>819181</td>\n",
              "      <td>3.0</td>\n",
              "      <td>LAKE CHARLES MEMORIAL HOSPITAL_1701 OAK PARK B...</td>\n",
              "      <td>LAKE CHARLES MEMORIAL HOSPITAL_1701 OAK PARK B...</td>\n",
              "    </tr>\n",
              "    <tr>\n",
              "      <th>1652</th>\n",
              "      <td>94943</td>\n",
              "      <td>680596</td>\n",
              "      <td>3.0</td>\n",
              "      <td>VALLEY PRESBYTERIAN HOSPITAL_15107 VANOWEN ST_...</td>\n",
              "      <td>VALLEY PRESBYTERIAN HOSPITAL_15107 VANOWEN ST_...</td>\n",
              "    </tr>\n",
              "    <tr>\n",
              "      <th>2244</th>\n",
              "      <td>94923</td>\n",
              "      <td>403151</td>\n",
              "      <td>3.0</td>\n",
              "      <td>UNIVERSITY COLO HEALTH MEMORIAL HOSPITAL CENTR...</td>\n",
              "      <td>UNIVERSITY COLO HEALTH MEMORIAL HOSPITAL CENTR...</td>\n",
              "    </tr>\n",
              "    <tr>\n",
              "      <th>958</th>\n",
              "      <td>94887</td>\n",
              "      <td>752284</td>\n",
              "      <td>2.0</td>\n",
              "      <td>NEW YORK-PRESBYTERIAN BROOKLYN METHODIST HOSPI...</td>\n",
              "      <td>NEW YORK METHODIST HOSPITAL_506 SIXTH STREET_B...</td>\n",
              "    </tr>\n",
              "    <tr>\n",
              "      <th>...</th>\n",
              "      <td>...</td>\n",
              "      <td>...</td>\n",
              "      <td>...</td>\n",
              "      <td>...</td>\n",
              "      <td>...</td>\n",
              "    </tr>\n",
              "    <tr>\n",
              "      <th>430</th>\n",
              "      <td>10165</td>\n",
              "      <td>188247</td>\n",
              "      <td>3.0</td>\n",
              "      <td>UTAH VALLEY HOSPITAL_1034 NORTH 500 WEST_PROVO_UT</td>\n",
              "      <td>UTAH VALLEY HOSPITAL_1034 NORTH 500 WEST_PROVO_UT</td>\n",
              "    </tr>\n",
              "    <tr>\n",
              "      <th>1691</th>\n",
              "      <td>10090</td>\n",
              "      <td>212069</td>\n",
              "      <td>3.0</td>\n",
              "      <td>CANONSBURG GENERAL HOSPITAL_100 MEDICAL BOULEV...</td>\n",
              "      <td>CANONSBURG GENERAL HOSPITAL_100 MEDICAL BOULEV...</td>\n",
              "    </tr>\n",
              "    <tr>\n",
              "      <th>922</th>\n",
              "      <td>10043</td>\n",
              "      <td>140535</td>\n",
              "      <td>3.0</td>\n",
              "      <td>BETH ISRAEL DEACONESS HOSPITAL - PLYMOUTH_275 ...</td>\n",
              "      <td>BETH ISRAEL DEACONESS HOSPITAL - PLYMOUTH_275 ...</td>\n",
              "    </tr>\n",
              "    <tr>\n",
              "      <th>1166</th>\n",
              "      <td>10020</td>\n",
              "      <td>210657</td>\n",
              "      <td>3.0</td>\n",
              "      <td>ST FRANCIS MEDICAL CENTER_309 JACKSON STREET_M...</td>\n",
              "      <td>ST FRANCIS MEDICAL CENTER_309 JACKSON STREET_M...</td>\n",
              "    </tr>\n",
              "    <tr>\n",
              "      <th>1165</th>\n",
              "      <td>10020</td>\n",
              "      <td>121670</td>\n",
              "      <td>2.0</td>\n",
              "      <td>ST FRANCIS MEDICAL CENTER_309 JACKSON STREET_M...</td>\n",
              "      <td>UNIVERSITY HEALTH CONWAY_4864 JACKSON STREET_M...</td>\n",
              "    </tr>\n",
              "  </tbody>\n",
              "</table>\n",
              "<p>2759 rows × 5 columns</p>\n",
              "</div>"
            ],
            "text/plain": [
              "      Account_Num  ...                          Reimbursement_Name_Lookup\n",
              "2384        94995  ...  CLAIBORNE MEDICAL CENTER_1850 OLD KNOXVILLE HI...\n",
              "1869        94953  ...  LAKE CHARLES MEMORIAL HOSPITAL_1701 OAK PARK B...\n",
              "1652        94943  ...  VALLEY PRESBYTERIAN HOSPITAL_15107 VANOWEN ST_...\n",
              "2244        94923  ...  UNIVERSITY COLO HEALTH MEMORIAL HOSPITAL CENTR...\n",
              "958         94887  ...  NEW YORK METHODIST HOSPITAL_506 SIXTH STREET_B...\n",
              "...           ...  ...                                                ...\n",
              "430         10165  ...  UTAH VALLEY HOSPITAL_1034 NORTH 500 WEST_PROVO_UT\n",
              "1691        10090  ...  CANONSBURG GENERAL HOSPITAL_100 MEDICAL BOULEV...\n",
              "922         10043  ...  BETH ISRAEL DEACONESS HOSPITAL - PLYMOUTH_275 ...\n",
              "1166        10020  ...  ST FRANCIS MEDICAL CENTER_309 JACKSON STREET_M...\n",
              "1165        10020  ...  UNIVERSITY HEALTH CONWAY_4864 JACKSON STREET_M...\n",
              "\n",
              "[2759 rows x 5 columns]"
            ]
          },
          "metadata": {
            "tags": []
          },
          "execution_count": 16
        }
      ]
    },
    {
      "cell_type": "code",
      "metadata": {
        "colab": {
          "base_uri": "https://localhost:8080/",
          "height": 49
        },
        "id": "Ga3E6jNhPfO3",
        "outputId": "eb113730-ce36-45f6-eae3-116dfd47cc48"
      },
      "source": [
        "final_merge[final_merge['Account_Num']==32725][cols]"
      ],
      "execution_count": 17,
      "outputs": [
        {
          "output_type": "execute_result",
          "data": {
            "text/html": [
              "<div>\n",
              "<style scoped>\n",
              "    .dataframe tbody tr th:only-of-type {\n",
              "        vertical-align: middle;\n",
              "    }\n",
              "\n",
              "    .dataframe tbody tr th {\n",
              "        vertical-align: top;\n",
              "    }\n",
              "\n",
              "    .dataframe thead th {\n",
              "        text-align: right;\n",
              "    }\n",
              "</style>\n",
              "<table border=\"1\" class=\"dataframe\">\n",
              "  <thead>\n",
              "    <tr style=\"text-align: right;\">\n",
              "      <th></th>\n",
              "      <th>Account_Num</th>\n",
              "      <th>Provider_Num</th>\n",
              "      <th>Score</th>\n",
              "      <th>Acct_Name_Lookup</th>\n",
              "      <th>Reimbursement_Name_Lookup</th>\n",
              "    </tr>\n",
              "  </thead>\n",
              "  <tbody>\n",
              "  </tbody>\n",
              "</table>\n",
              "</div>"
            ],
            "text/plain": [
              "Empty DataFrame\n",
              "Columns: [Account_Num, Provider_Num, Score, Acct_Name_Lookup, Reimbursement_Name_Lookup]\n",
              "Index: []"
            ]
          },
          "metadata": {
            "tags": []
          },
          "execution_count": 17
        }
      ]
    },
    {
      "cell_type": "code",
      "metadata": {
        "id": "Oam8gyb0PkHP"
      },
      "source": [
        "final_merge.sort_values(by=['Account_Num', 'Score'],\n",
        "                    ascending=False).to_excel('merge_list.xlsx',\n",
        "                                              index=False)"
      ],
      "execution_count": 18,
      "outputs": []
    }
  ]
}