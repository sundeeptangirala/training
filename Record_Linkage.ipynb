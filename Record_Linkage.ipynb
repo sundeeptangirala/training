{
  "nbformat": 4,
  "nbformat_minor": 0,
  "metadata": {
    "colab": {
      "name": "Record_Linkage.ipynb",
      "provenance": []
    },
    "kernelspec": {
      "name": "python3",
      "display_name": "Python 3"
    },
    "language_info": {
      "name": "python"
    }
  },
  "cells": [
    {
      "cell_type": "code",
      "metadata": {
        "colab": {
          "base_uri": "https://localhost:8080/"
        },
        "id": "hKy0cpi1Mp7h",
        "outputId": "05741ed0-654b-463b-930e-19a896a34108"
      },
      "source": [
        "pip install recordlinkage"
      ],
      "execution_count": 1,
      "outputs": [
        {
          "output_type": "stream",
          "text": [
            "Collecting recordlinkage\n",
            "\u001b[?25l  Downloading https://files.pythonhosted.org/packages/db/26/babbca39d74824e8bc17428a8eb04951a1d63318af7d02beeb2106a1ec26/recordlinkage-0.14-py3-none-any.whl (944kB)\n",
            "\u001b[K     |████████████████████████████████| 952kB 8.4MB/s \n",
            "\u001b[?25hRequirement already satisfied: scikit-learn>=0.19.0 in /usr/local/lib/python3.7/dist-packages (from recordlinkage) (0.22.2.post1)\n",
            "Requirement already satisfied: joblib in /usr/local/lib/python3.7/dist-packages (from recordlinkage) (1.0.1)\n",
            "Requirement already satisfied: pandas>=0.23 in /usr/local/lib/python3.7/dist-packages (from recordlinkage) (1.1.5)\n",
            "Requirement already satisfied: numpy>=1.13.0 in /usr/local/lib/python3.7/dist-packages (from recordlinkage) (1.19.5)\n",
            "Collecting jellyfish>=0.5.4\n",
            "\u001b[?25l  Downloading https://files.pythonhosted.org/packages/30/a6/4d039bc827a102f62ce7a7910713e38fdfd7c7a40aa39c72fb14938a1473/jellyfish-0.8.2-cp37-cp37m-manylinux2014_x86_64.whl (90kB)\n",
            "\u001b[K     |████████████████████████████████| 92kB 8.5MB/s \n",
            "\u001b[?25hRequirement already satisfied: scipy>=1 in /usr/local/lib/python3.7/dist-packages (from recordlinkage) (1.4.1)\n",
            "Requirement already satisfied: pytz>=2017.2 in /usr/local/lib/python3.7/dist-packages (from pandas>=0.23->recordlinkage) (2018.9)\n",
            "Requirement already satisfied: python-dateutil>=2.7.3 in /usr/local/lib/python3.7/dist-packages (from pandas>=0.23->recordlinkage) (2.8.1)\n",
            "Requirement already satisfied: six>=1.5 in /usr/local/lib/python3.7/dist-packages (from python-dateutil>=2.7.3->pandas>=0.23->recordlinkage) (1.15.0)\n",
            "Installing collected packages: jellyfish, recordlinkage\n",
            "Successfully installed jellyfish-0.8.2 recordlinkage-0.14\n"
          ],
          "name": "stdout"
        }
      ]
    },
    {
      "cell_type": "code",
      "metadata": {
        "id": "FOxvwVDuMPqn"
      },
      "source": [
        "import pandas as pd\n",
        "import recordlinkage"
      ],
      "execution_count": 2,
      "outputs": []
    },
    {
      "cell_type": "code",
      "metadata": {
        "id": "1t6ySDpmM1jm"
      },
      "source": [
        "\n",
        "hospital_accounts = pd.read_csv('hospital_account_info.csv', index_col='Account_Num')\n",
        "hospital_reimbursement = pd.read_csv('hospital_reimbursement.csv', index_col='Provider_Num')"
      ],
      "execution_count": 3,
      "outputs": []
    },
    {
      "cell_type": "code",
      "metadata": {
        "colab": {
          "base_uri": "https://localhost:8080/"
        },
        "id": "1o2yWwIbM5J9",
        "outputId": "3ddb8573-3257-4348-9454-6a2c8da84a26"
      },
      "source": [
        "indexer = recordlinkage.Index()\n",
        "indexer.full()"
      ],
      "execution_count": 4,
      "outputs": [
        {
          "output_type": "stream",
          "text": [
            "WARNING:recordlinkage:indexing - performance warning - A full index can result in large number of record pairs.\n"
          ],
          "name": "stdout"
        },
        {
          "output_type": "execute_result",
          "data": {
            "text/plain": [
              "<Index>"
            ]
          },
          "metadata": {
            "tags": []
          },
          "execution_count": 4
        }
      ]
    },
    {
      "cell_type": "code",
      "metadata": {
        "colab": {
          "base_uri": "https://localhost:8080/"
        },
        "id": "bL6wsLcQNDvD",
        "outputId": "821e1ed9-bc08-4879-bedd-70a2ad2e84c1"
      },
      "source": [
        "candidates = indexer.index(hospital_accounts, hospital_reimbursement)\n",
        "print(len(candidates))"
      ],
      "execution_count": 5,
      "outputs": [
        {
          "output_type": "stream",
          "text": [
            "14399283\n"
          ],
          "name": "stdout"
        }
      ]
    },
    {
      "cell_type": "code",
      "metadata": {
        "id": "prZnmXKNNGlJ",
        "colab": {
          "base_uri": "https://localhost:8080/",
          "height": 375
        },
        "outputId": "07d3153f-17aa-4b01-8f54-615034d9a816"
      },
      "source": [
        "compare = recordlinkage.Compare()\n",
        "compare.exact('City', 'Provider City', label='City')\n",
        "compare.string('Facility Name',\n",
        "            'Provider Name',\n",
        "            threshold=0.85,\n",
        "            label='Hosp_Name')\n",
        "compare.string('Address',\n",
        "            'Provider Street Address',\n",
        "            method='jarowinkler',\n",
        "            threshold=0.85,\n",
        "            label='Hosp_Address')\n",
        "features = compare.compute(candidates, hospital_accounts,\n",
        "                        hospital_reimbursement)"
      ],
      "execution_count": 6,
      "outputs": [
        {
          "output_type": "error",
          "ename": "KeyboardInterrupt",
          "evalue": "ignored",
          "traceback": [
            "\u001b[0;31m---------------------------------------------------------------------------\u001b[0m",
            "\u001b[0;31mKeyboardInterrupt\u001b[0m                         Traceback (most recent call last)",
            "\u001b[0;32m<ipython-input-6-c6d678302766>\u001b[0m in \u001b[0;36m<module>\u001b[0;34m()\u001b[0m\n\u001b[1;32m     11\u001b[0m             label='Hosp_Address')\n\u001b[1;32m     12\u001b[0m features = compare.compute(candidates, hospital_accounts,\n\u001b[0;32m---> 13\u001b[0;31m                         hospital_reimbursement)\n\u001b[0m",
            "\u001b[0;32m/usr/local/lib/python3.7/dist-packages/recordlinkage/base.py\u001b[0m in \u001b[0;36mcompute\u001b[0;34m(self, pairs, x, x_link)\u001b[0m\n\u001b[1;32m    863\u001b[0m \u001b[0;34m\u001b[0m\u001b[0m\n\u001b[1;32m    864\u001b[0m         \u001b[0;32mif\u001b[0m \u001b[0mself\u001b[0m\u001b[0;34m.\u001b[0m\u001b[0mn_jobs\u001b[0m \u001b[0;34m==\u001b[0m \u001b[0;36m1\u001b[0m\u001b[0;34m:\u001b[0m\u001b[0;34m\u001b[0m\u001b[0;34m\u001b[0m\u001b[0m\n\u001b[0;32m--> 865\u001b[0;31m             \u001b[0mresults\u001b[0m \u001b[0;34m=\u001b[0m \u001b[0mself\u001b[0m\u001b[0;34m.\u001b[0m\u001b[0m_compute\u001b[0m\u001b[0;34m(\u001b[0m\u001b[0mpairs\u001b[0m\u001b[0;34m,\u001b[0m \u001b[0mx\u001b[0m\u001b[0;34m,\u001b[0m \u001b[0mx_link\u001b[0m\u001b[0;34m)\u001b[0m\u001b[0;34m\u001b[0m\u001b[0;34m\u001b[0m\u001b[0m\n\u001b[0m\u001b[1;32m    866\u001b[0m         \u001b[0;32melif\u001b[0m \u001b[0mself\u001b[0m\u001b[0;34m.\u001b[0m\u001b[0mn_jobs\u001b[0m \u001b[0;34m>\u001b[0m \u001b[0;36m1\u001b[0m\u001b[0;34m:\u001b[0m\u001b[0;34m\u001b[0m\u001b[0;34m\u001b[0m\u001b[0m\n\u001b[1;32m    867\u001b[0m             results = self._compute_parallel(\n",
            "\u001b[0;32m/usr/local/lib/python3.7/dist-packages/recordlinkage/base.py\u001b[0m in \u001b[0;36m_compute\u001b[0;34m(self, pairs, x, x_link)\u001b[0m\n\u001b[1;32m    727\u001b[0m                 )\n\u001b[1;32m    728\u001b[0m \u001b[0;34m\u001b[0m\u001b[0m\n\u001b[0;32m--> 729\u001b[0;31m             \u001b[0mresult\u001b[0m \u001b[0;34m=\u001b[0m \u001b[0mfeat\u001b[0m\u001b[0;34m.\u001b[0m\u001b[0m_compute\u001b[0m\u001b[0;34m(\u001b[0m\u001b[0mdata1\u001b[0m\u001b[0;34m,\u001b[0m \u001b[0mdata2\u001b[0m\u001b[0;34m)\u001b[0m\u001b[0;34m\u001b[0m\u001b[0;34m\u001b[0m\u001b[0m\n\u001b[0m\u001b[1;32m    730\u001b[0m             \u001b[0mfeatures\u001b[0m\u001b[0;34m.\u001b[0m\u001b[0mappend\u001b[0m\u001b[0;34m(\u001b[0m\u001b[0;34m(\u001b[0m\u001b[0mresult\u001b[0m\u001b[0;34m,\u001b[0m \u001b[0mfeat\u001b[0m\u001b[0;34m.\u001b[0m\u001b[0mlabel\u001b[0m\u001b[0;34m)\u001b[0m\u001b[0;34m)\u001b[0m\u001b[0;34m\u001b[0m\u001b[0;34m\u001b[0m\u001b[0m\n\u001b[1;32m    731\u001b[0m \u001b[0;34m\u001b[0m\u001b[0m\n",
            "\u001b[0;32m/usr/local/lib/python3.7/dist-packages/recordlinkage/base.py\u001b[0m in \u001b[0;36m_compute\u001b[0;34m(self, left_on, right_on)\u001b[0m\n\u001b[1;32m    447\u001b[0m             \u001b[0mnumpy\u001b[0m\u001b[0;34m.\u001b[0m\u001b[0mndarray\u001b[0m \u001b[0mobjects\u001b[0m\u001b[0;34m.\u001b[0m\u001b[0;34m\u001b[0m\u001b[0;34m\u001b[0m\u001b[0m\n\u001b[1;32m    448\u001b[0m         \"\"\"\n\u001b[0;32m--> 449\u001b[0;31m         \u001b[0mresult\u001b[0m \u001b[0;34m=\u001b[0m \u001b[0mself\u001b[0m\u001b[0;34m.\u001b[0m\u001b[0m_compute_vectorized\u001b[0m\u001b[0;34m(\u001b[0m\u001b[0;34m*\u001b[0m\u001b[0mtuple\u001b[0m\u001b[0;34m(\u001b[0m\u001b[0mleft_on\u001b[0m \u001b[0;34m+\u001b[0m \u001b[0mright_on\u001b[0m\u001b[0;34m)\u001b[0m\u001b[0;34m)\u001b[0m\u001b[0;34m\u001b[0m\u001b[0;34m\u001b[0m\u001b[0m\n\u001b[0m\u001b[1;32m    450\u001b[0m \u001b[0;34m\u001b[0m\u001b[0m\n\u001b[1;32m    451\u001b[0m         \u001b[0;32mreturn\u001b[0m \u001b[0mresult\u001b[0m\u001b[0;34m\u001b[0m\u001b[0;34m\u001b[0m\u001b[0m\n",
            "\u001b[0;32m/usr/local/lib/python3.7/dist-packages/recordlinkage/compare.py\u001b[0m in \u001b[0;36m_compute_vectorized\u001b[0;34m(self, s_left, s_right)\u001b[0m\n\u001b[1;32m    148\u001b[0m                 self.method))\n\u001b[1;32m    149\u001b[0m \u001b[0;34m\u001b[0m\u001b[0m\n\u001b[0;32m--> 150\u001b[0;31m         \u001b[0mc\u001b[0m \u001b[0;34m=\u001b[0m \u001b[0mstr_sim_alg\u001b[0m\u001b[0;34m(\u001b[0m\u001b[0ms_left\u001b[0m\u001b[0;34m,\u001b[0m \u001b[0ms_right\u001b[0m\u001b[0;34m)\u001b[0m\u001b[0;34m\u001b[0m\u001b[0;34m\u001b[0m\u001b[0m\n\u001b[0m\u001b[1;32m    151\u001b[0m \u001b[0;34m\u001b[0m\u001b[0m\n\u001b[1;32m    152\u001b[0m         \u001b[0;32mif\u001b[0m \u001b[0mself\u001b[0m\u001b[0;34m.\u001b[0m\u001b[0mthreshold\u001b[0m \u001b[0;32mis\u001b[0m \u001b[0;32mnot\u001b[0m \u001b[0;32mNone\u001b[0m\u001b[0;34m:\u001b[0m\u001b[0;34m\u001b[0m\u001b[0;34m\u001b[0m\u001b[0m\n",
            "\u001b[0;32m/usr/local/lib/python3.7/dist-packages/recordlinkage/algorithms/string.py\u001b[0m in \u001b[0;36mlevenshtein_similarity\u001b[0;34m(s1, s2)\u001b[0m\n\u001b[1;32m     62\u001b[0m                 \u001b[0;32mraise\u001b[0m \u001b[0merr\u001b[0m\u001b[0;34m\u001b[0m\u001b[0;34m\u001b[0m\u001b[0m\n\u001b[1;32m     63\u001b[0m \u001b[0;34m\u001b[0m\u001b[0m\n\u001b[0;32m---> 64\u001b[0;31m     \u001b[0;32mreturn\u001b[0m \u001b[0mconc\u001b[0m\u001b[0;34m.\u001b[0m\u001b[0mapply\u001b[0m\u001b[0;34m(\u001b[0m\u001b[0mlevenshtein_apply\u001b[0m\u001b[0;34m)\u001b[0m\u001b[0;34m\u001b[0m\u001b[0;34m\u001b[0m\u001b[0m\n\u001b[0m\u001b[1;32m     65\u001b[0m \u001b[0;34m\u001b[0m\u001b[0m\n\u001b[1;32m     66\u001b[0m \u001b[0;34m\u001b[0m\u001b[0m\n",
            "\u001b[0;32m/usr/local/lib/python3.7/dist-packages/pandas/core/series.py\u001b[0m in \u001b[0;36mapply\u001b[0;34m(self, func, convert_dtype, args, **kwds)\u001b[0m\n\u001b[1;32m   4211\u001b[0m             \u001b[0;32melse\u001b[0m\u001b[0;34m:\u001b[0m\u001b[0;34m\u001b[0m\u001b[0;34m\u001b[0m\u001b[0m\n\u001b[1;32m   4212\u001b[0m                 \u001b[0mvalues\u001b[0m \u001b[0;34m=\u001b[0m \u001b[0mself\u001b[0m\u001b[0;34m.\u001b[0m\u001b[0mastype\u001b[0m\u001b[0;34m(\u001b[0m\u001b[0mobject\u001b[0m\u001b[0;34m)\u001b[0m\u001b[0;34m.\u001b[0m\u001b[0m_values\u001b[0m\u001b[0;34m\u001b[0m\u001b[0;34m\u001b[0m\u001b[0m\n\u001b[0;32m-> 4213\u001b[0;31m                 \u001b[0mmapped\u001b[0m \u001b[0;34m=\u001b[0m \u001b[0mlib\u001b[0m\u001b[0;34m.\u001b[0m\u001b[0mmap_infer\u001b[0m\u001b[0;34m(\u001b[0m\u001b[0mvalues\u001b[0m\u001b[0;34m,\u001b[0m \u001b[0mf\u001b[0m\u001b[0;34m,\u001b[0m \u001b[0mconvert\u001b[0m\u001b[0;34m=\u001b[0m\u001b[0mconvert_dtype\u001b[0m\u001b[0;34m)\u001b[0m\u001b[0;34m\u001b[0m\u001b[0;34m\u001b[0m\u001b[0m\n\u001b[0m\u001b[1;32m   4214\u001b[0m \u001b[0;34m\u001b[0m\u001b[0m\n\u001b[1;32m   4215\u001b[0m         \u001b[0;32mif\u001b[0m \u001b[0mlen\u001b[0m\u001b[0;34m(\u001b[0m\u001b[0mmapped\u001b[0m\u001b[0;34m)\u001b[0m \u001b[0;32mand\u001b[0m \u001b[0misinstance\u001b[0m\u001b[0;34m(\u001b[0m\u001b[0mmapped\u001b[0m\u001b[0;34m[\u001b[0m\u001b[0;36m0\u001b[0m\u001b[0;34m]\u001b[0m\u001b[0;34m,\u001b[0m \u001b[0mSeries\u001b[0m\u001b[0;34m)\u001b[0m\u001b[0;34m:\u001b[0m\u001b[0;34m\u001b[0m\u001b[0;34m\u001b[0m\u001b[0m\n",
            "\u001b[0;32mpandas/_libs/lib.pyx\u001b[0m in \u001b[0;36mpandas._libs.lib.map_infer\u001b[0;34m()\u001b[0m\n",
            "\u001b[0;32m/usr/local/lib/python3.7/dist-packages/recordlinkage/algorithms/string.py\u001b[0m in \u001b[0;36mlevenshtein_apply\u001b[0;34m(x)\u001b[0m\n\u001b[1;32m     51\u001b[0m     \u001b[0mconc\u001b[0m \u001b[0;34m=\u001b[0m \u001b[0mpandas\u001b[0m\u001b[0;34m.\u001b[0m\u001b[0mSeries\u001b[0m\u001b[0;34m(\u001b[0m\u001b[0mlist\u001b[0m\u001b[0;34m(\u001b[0m\u001b[0mzip\u001b[0m\u001b[0;34m(\u001b[0m\u001b[0ms1\u001b[0m\u001b[0;34m,\u001b[0m \u001b[0ms2\u001b[0m\u001b[0;34m)\u001b[0m\u001b[0;34m)\u001b[0m\u001b[0;34m)\u001b[0m\u001b[0;34m\u001b[0m\u001b[0;34m\u001b[0m\u001b[0m\n\u001b[1;32m     52\u001b[0m \u001b[0;34m\u001b[0m\u001b[0m\n\u001b[0;32m---> 53\u001b[0;31m     \u001b[0;32mdef\u001b[0m \u001b[0mlevenshtein_apply\u001b[0m\u001b[0;34m(\u001b[0m\u001b[0mx\u001b[0m\u001b[0;34m)\u001b[0m\u001b[0;34m:\u001b[0m\u001b[0;34m\u001b[0m\u001b[0;34m\u001b[0m\u001b[0m\n\u001b[0m\u001b[1;32m     54\u001b[0m \u001b[0;34m\u001b[0m\u001b[0m\n\u001b[1;32m     55\u001b[0m         \u001b[0;32mtry\u001b[0m\u001b[0;34m:\u001b[0m\u001b[0;34m\u001b[0m\u001b[0;34m\u001b[0m\u001b[0m\n",
            "\u001b[0;31mKeyboardInterrupt\u001b[0m: "
          ]
        }
      ]
    },
    {
      "cell_type": "code",
      "metadata": {
        "id": "pth3HMHyOgih"
      },
      "source": [
        "indexer = recordlinkage.Index()\n",
        "indexer.block(left_on='State', right_on='Provider State')\n",
        "candidates = indexer.index(hospital_accounts, hospital_reimbursement)\n",
        "print(len(candidates))"
      ],
      "execution_count": null,
      "outputs": []
    },
    {
      "cell_type": "code",
      "metadata": {
        "id": "G7Wwrvs8Onpb"
      },
      "source": [
        "indexer = recordlinkage.Index()\n",
        "indexer.sortedneighbourhood(left_on='State', right_on='Provider State')\n",
        "candidates = indexer.index(hospital_accounts, hospital_reimbursement)\n",
        "print(len(candidates))"
      ],
      "execution_count": null,
      "outputs": []
    },
    {
      "cell_type": "code",
      "metadata": {
        "colab": {
          "base_uri": "https://localhost:8080/"
        },
        "id": "P6B-NKkePEnr",
        "outputId": "74c40393-289a-4a64-ac15-15eda5c35acd"
      },
      "source": [
        "features.sum(axis=1).value_counts().sort_index(ascending=False)"
      ],
      "execution_count": null,
      "outputs": [
        {
          "output_type": "execute_result",
          "data": {
            "text/plain": [
              "3.0        2285\n",
              "2.0         474\n",
              "1.0       22262\n",
              "0.0    14374262\n",
              "dtype: int64"
            ]
          },
          "metadata": {
            "tags": []
          },
          "execution_count": 28
        }
      ]
    },
    {
      "cell_type": "code",
      "metadata": {
        "id": "LM9fD8tCPIE-"
      },
      "source": [
        "potential_matches = features[features.sum(axis=1) > 1].reset_index()\n",
        "potential_matches['Score'] = potential_matches.loc[:, 'City':'Hosp_Address'].sum(axis=1)"
      ],
      "execution_count": null,
      "outputs": []
    },
    {
      "cell_type": "code",
      "metadata": {
        "id": "IQ3_Air4PSMe"
      },
      "source": [
        "hospital_accounts['Acct_Name_Lookup'] = hospital_accounts[[\n",
        "    'Facility Name', 'Address', 'City', 'State'\n",
        "]].apply(lambda x: '_'.join(x), axis=1)\n",
        "\n",
        "hospital_reimbursement['Reimbursement_Name_Lookup'] = hospital_reimbursement[[\n",
        "    'Provider Name', 'Provider Street Address', 'Provider City',\n",
        "    'Provider State'\n",
        "]].apply(lambda x: '_'.join(x), axis=1)\n",
        "\n",
        "account_lookup = hospital_accounts[['Acct_Name_Lookup']].reset_index()\n",
        "reimbursement_lookup = hospital_reimbursement[['Reimbursement_Name_Lookup']].reset_index()"
      ],
      "execution_count": null,
      "outputs": []
    },
    {
      "cell_type": "code",
      "metadata": {
        "id": "SUPqotooPVng"
      },
      "source": [
        "account_merge = potential_matches.merge(account_lookup, how='left')"
      ],
      "execution_count": null,
      "outputs": []
    },
    {
      "cell_type": "code",
      "metadata": {
        "id": "tvvJjghhPZOq"
      },
      "source": [
        "final_merge = account_merge.merge(reimbursement_lookup, how='left')"
      ],
      "execution_count": null,
      "outputs": []
    },
    {
      "cell_type": "code",
      "metadata": {
        "colab": {
          "base_uri": "https://localhost:8080/",
          "height": 419
        },
        "id": "pkSHUQABPbaw",
        "outputId": "eb927aaf-e597-48d4-c882-a8d02e0f0a90"
      },
      "source": [
        "cols = ['Account_Num', 'Provider_Num', 'Score',\n",
        "        'Acct_Name_Lookup', 'Reimbursement_Name_Lookup']\n",
        "final_merge[cols].sort_values(by=['Account_Num', 'Score'], ascending=False)"
      ],
      "execution_count": null,
      "outputs": [
        {
          "output_type": "execute_result",
          "data": {
            "text/html": [
              "<div>\n",
              "<style scoped>\n",
              "    .dataframe tbody tr th:only-of-type {\n",
              "        vertical-align: middle;\n",
              "    }\n",
              "\n",
              "    .dataframe tbody tr th {\n",
              "        vertical-align: top;\n",
              "    }\n",
              "\n",
              "    .dataframe thead th {\n",
              "        text-align: right;\n",
              "    }\n",
              "</style>\n",
              "<table border=\"1\" class=\"dataframe\">\n",
              "  <thead>\n",
              "    <tr style=\"text-align: right;\">\n",
              "      <th></th>\n",
              "      <th>Account_Num</th>\n",
              "      <th>Provider_Num</th>\n",
              "      <th>Score</th>\n",
              "      <th>Acct_Name_Lookup</th>\n",
              "      <th>Reimbursement_Name_Lookup</th>\n",
              "    </tr>\n",
              "  </thead>\n",
              "  <tbody>\n",
              "    <tr>\n",
              "      <th>2384</th>\n",
              "      <td>94995</td>\n",
              "      <td>825914</td>\n",
              "      <td>3.0</td>\n",
              "      <td>CLAIBORNE MEDICAL CENTER_1850 OLD KNOXVILLE HI...</td>\n",
              "      <td>CLAIBORNE MEDICAL CENTER_1850 OLD KNOXVILLE HI...</td>\n",
              "    </tr>\n",
              "    <tr>\n",
              "      <th>1869</th>\n",
              "      <td>94953</td>\n",
              "      <td>819181</td>\n",
              "      <td>3.0</td>\n",
              "      <td>LAKE CHARLES MEMORIAL HOSPITAL_1701 OAK PARK B...</td>\n",
              "      <td>LAKE CHARLES MEMORIAL HOSPITAL_1701 OAK PARK B...</td>\n",
              "    </tr>\n",
              "    <tr>\n",
              "      <th>1652</th>\n",
              "      <td>94943</td>\n",
              "      <td>680596</td>\n",
              "      <td>3.0</td>\n",
              "      <td>VALLEY PRESBYTERIAN HOSPITAL_15107 VANOWEN ST_...</td>\n",
              "      <td>VALLEY PRESBYTERIAN HOSPITAL_15107 VANOWEN ST_...</td>\n",
              "    </tr>\n",
              "    <tr>\n",
              "      <th>2244</th>\n",
              "      <td>94923</td>\n",
              "      <td>403151</td>\n",
              "      <td>3.0</td>\n",
              "      <td>UNIVERSITY COLO HEALTH MEMORIAL HOSPITAL CENTR...</td>\n",
              "      <td>UNIVERSITY COLO HEALTH MEMORIAL HOSPITAL CENTR...</td>\n",
              "    </tr>\n",
              "    <tr>\n",
              "      <th>958</th>\n",
              "      <td>94887</td>\n",
              "      <td>752284</td>\n",
              "      <td>2.0</td>\n",
              "      <td>NEW YORK-PRESBYTERIAN BROOKLYN METHODIST HOSPI...</td>\n",
              "      <td>NEW YORK METHODIST HOSPITAL_506 SIXTH STREET_B...</td>\n",
              "    </tr>\n",
              "    <tr>\n",
              "      <th>...</th>\n",
              "      <td>...</td>\n",
              "      <td>...</td>\n",
              "      <td>...</td>\n",
              "      <td>...</td>\n",
              "      <td>...</td>\n",
              "    </tr>\n",
              "    <tr>\n",
              "      <th>430</th>\n",
              "      <td>10165</td>\n",
              "      <td>188247</td>\n",
              "      <td>3.0</td>\n",
              "      <td>UTAH VALLEY HOSPITAL_1034 NORTH 500 WEST_PROVO_UT</td>\n",
              "      <td>UTAH VALLEY HOSPITAL_1034 NORTH 500 WEST_PROVO_UT</td>\n",
              "    </tr>\n",
              "    <tr>\n",
              "      <th>1691</th>\n",
              "      <td>10090</td>\n",
              "      <td>212069</td>\n",
              "      <td>3.0</td>\n",
              "      <td>CANONSBURG GENERAL HOSPITAL_100 MEDICAL BOULEV...</td>\n",
              "      <td>CANONSBURG GENERAL HOSPITAL_100 MEDICAL BOULEV...</td>\n",
              "    </tr>\n",
              "    <tr>\n",
              "      <th>922</th>\n",
              "      <td>10043</td>\n",
              "      <td>140535</td>\n",
              "      <td>3.0</td>\n",
              "      <td>BETH ISRAEL DEACONESS HOSPITAL - PLYMOUTH_275 ...</td>\n",
              "      <td>BETH ISRAEL DEACONESS HOSPITAL - PLYMOUTH_275 ...</td>\n",
              "    </tr>\n",
              "    <tr>\n",
              "      <th>1166</th>\n",
              "      <td>10020</td>\n",
              "      <td>210657</td>\n",
              "      <td>3.0</td>\n",
              "      <td>ST FRANCIS MEDICAL CENTER_309 JACKSON STREET_M...</td>\n",
              "      <td>ST FRANCIS MEDICAL CENTER_309 JACKSON STREET_M...</td>\n",
              "    </tr>\n",
              "    <tr>\n",
              "      <th>1165</th>\n",
              "      <td>10020</td>\n",
              "      <td>121670</td>\n",
              "      <td>2.0</td>\n",
              "      <td>ST FRANCIS MEDICAL CENTER_309 JACKSON STREET_M...</td>\n",
              "      <td>UNIVERSITY HEALTH CONWAY_4864 JACKSON STREET_M...</td>\n",
              "    </tr>\n",
              "  </tbody>\n",
              "</table>\n",
              "<p>2759 rows × 5 columns</p>\n",
              "</div>"
            ],
            "text/plain": [
              "      Account_Num  ...                          Reimbursement_Name_Lookup\n",
              "2384        94995  ...  CLAIBORNE MEDICAL CENTER_1850 OLD KNOXVILLE HI...\n",
              "1869        94953  ...  LAKE CHARLES MEMORIAL HOSPITAL_1701 OAK PARK B...\n",
              "1652        94943  ...  VALLEY PRESBYTERIAN HOSPITAL_15107 VANOWEN ST_...\n",
              "2244        94923  ...  UNIVERSITY COLO HEALTH MEMORIAL HOSPITAL CENTR...\n",
              "958         94887  ...  NEW YORK METHODIST HOSPITAL_506 SIXTH STREET_B...\n",
              "...           ...  ...                                                ...\n",
              "430         10165  ...  UTAH VALLEY HOSPITAL_1034 NORTH 500 WEST_PROVO_UT\n",
              "1691        10090  ...  CANONSBURG GENERAL HOSPITAL_100 MEDICAL BOULEV...\n",
              "922         10043  ...  BETH ISRAEL DEACONESS HOSPITAL - PLYMOUTH_275 ...\n",
              "1166        10020  ...  ST FRANCIS MEDICAL CENTER_309 JACKSON STREET_M...\n",
              "1165        10020  ...  UNIVERSITY HEALTH CONWAY_4864 JACKSON STREET_M...\n",
              "\n",
              "[2759 rows x 5 columns]"
            ]
          },
          "metadata": {
            "tags": []
          },
          "execution_count": 33
        }
      ]
    },
    {
      "cell_type": "code",
      "metadata": {
        "colab": {
          "base_uri": "https://localhost:8080/",
          "height": 49
        },
        "id": "Ga3E6jNhPfO3",
        "outputId": "6d0af417-2384-4b7f-ea0e-d3adad45ea58"
      },
      "source": [
        "final_merge[final_merge['Account_Num']==32725][cols]"
      ],
      "execution_count": null,
      "outputs": [
        {
          "output_type": "execute_result",
          "data": {
            "text/html": [
              "<div>\n",
              "<style scoped>\n",
              "    .dataframe tbody tr th:only-of-type {\n",
              "        vertical-align: middle;\n",
              "    }\n",
              "\n",
              "    .dataframe tbody tr th {\n",
              "        vertical-align: top;\n",
              "    }\n",
              "\n",
              "    .dataframe thead th {\n",
              "        text-align: right;\n",
              "    }\n",
              "</style>\n",
              "<table border=\"1\" class=\"dataframe\">\n",
              "  <thead>\n",
              "    <tr style=\"text-align: right;\">\n",
              "      <th></th>\n",
              "      <th>Account_Num</th>\n",
              "      <th>Provider_Num</th>\n",
              "      <th>Score</th>\n",
              "      <th>Acct_Name_Lookup</th>\n",
              "      <th>Reimbursement_Name_Lookup</th>\n",
              "    </tr>\n",
              "  </thead>\n",
              "  <tbody>\n",
              "  </tbody>\n",
              "</table>\n",
              "</div>"
            ],
            "text/plain": [
              "Empty DataFrame\n",
              "Columns: [Account_Num, Provider_Num, Score, Acct_Name_Lookup, Reimbursement_Name_Lookup]\n",
              "Index: []"
            ]
          },
          "metadata": {
            "tags": []
          },
          "execution_count": 34
        }
      ]
    },
    {
      "cell_type": "code",
      "metadata": {
        "id": "Oam8gyb0PkHP"
      },
      "source": [
        "final_merge.sort_values(by=['Account_Num', 'Score'],\n",
        "                    ascending=False).to_excel('merge_list.xlsx',\n",
        "                                              index=False)"
      ],
      "execution_count": null,
      "outputs": []
    },
    {
      "cell_type": "markdown",
      "metadata": {
        "id": "iL_8EVnoRK80"
      },
      "source": [
        "From Here is Recod Linkage\n"
      ]
    },
    {
      "cell_type": "code",
      "metadata": {
        "id": "ibXJAZ2rRNiH"
      },
      "source": [
        "hospital_dupes = pd.read_csv('hospital_account_dupes.csv', index_col='Account_Num')"
      ],
      "execution_count": null,
      "outputs": []
    },
    {
      "cell_type": "code",
      "metadata": {
        "id": "vqXAz1w-TMe4"
      },
      "source": [
        "dupe_indexer = recordlinkage.Index()\n",
        "dupe_indexer.sortedneighbourhood(left_on='State')\n",
        "dupe_candidate_links = dupe_indexer.index(hospital_dupes)"
      ],
      "execution_count": null,
      "outputs": []
    },
    {
      "cell_type": "code",
      "metadata": {
        "id": "3HH5Zf-NTfax"
      },
      "source": [
        "compare_dupes = recordlinkage.Compare()\n",
        "compare_dupes.string('City', 'City', threshold=0.85, label='City')\n",
        "compare_dupes.string('Phone Number',\n",
        "                    'Phone Number',\n",
        "                    threshold=0.85,\n",
        "                    label='Phone_Num')\n",
        "compare_dupes.string('Facility Name',\n",
        "                    'Facility Name',\n",
        "                    threshold=0.80,\n",
        "                    label='Hosp_Name')\n",
        "compare_dupes.string('Address',\n",
        "                    'Address',\n",
        "                    threshold=0.85,\n",
        "                    label='Hosp_Address')\n",
        "dupe_features = compare_dupes.compute(dupe_candidate_links, hospital_dupes)"
      ],
      "execution_count": null,
      "outputs": []
    },
    {
      "cell_type": "code",
      "metadata": {
        "colab": {
          "base_uri": "https://localhost:8080/"
        },
        "id": "mDO57jDET5BV",
        "outputId": "d861bf47-cd46-4c51-f879-2fee26dfa118"
      },
      "source": [
        "print(dupe_features)"
      ],
      "execution_count": null,
      "outputs": [
        {
          "output_type": "stream",
          "text": [
            "                             City  Phone_Num  Hosp_Name  Hosp_Address\n",
            "Account_Num_1 Account_Num_2                                          \n",
            "26270         28485           0.0        0.0        0.0           0.0\n",
            "              30430           0.0        0.0        0.0           0.0\n",
            "              43602           0.0        0.0        0.0           0.0\n",
            "59585         28485           0.0        0.0        0.0           0.0\n",
            "              30430           0.0        0.0        0.0           0.0\n",
            "...                           ...        ...        ...           ...\n",
            "64029         38600           0.0        0.0        0.0           0.0\n",
            "              35413           0.0        0.0        0.0           0.0\n",
            "              81525           0.0        0.0        0.0           0.0\n",
            "              82916           0.0        0.0        0.0           0.0\n",
            "              18907           0.0        0.0        0.0           0.0\n",
            "\n",
            "[981277 rows x 4 columns]\n"
          ],
          "name": "stdout"
        }
      ]
    },
    {
      "cell_type": "code",
      "metadata": {
        "colab": {
          "base_uri": "https://localhost:8080/"
        },
        "id": "hLCKf4tlUQmp",
        "outputId": "0c936f50-93a6-4a21-962f-147e1399bb64"
      },
      "source": [
        "dupe_features.sum(axis=1).value_counts().sort_index(ascending=False)"
      ],
      "execution_count": null,
      "outputs": [
        {
          "output_type": "execute_result",
          "data": {
            "text/plain": [
              "3.0         7\n",
              "2.0       206\n",
              "1.0      7859\n",
              "0.0    973205\n",
              "dtype: int64"
            ]
          },
          "metadata": {
            "tags": []
          },
          "execution_count": 43
        }
      ]
    },
    {
      "cell_type": "code",
      "metadata": {
        "id": "5dJcbVpHUTZA"
      },
      "source": [
        "potential_dupes = dupe_features[dupe_features.sum(axis=1) > 1].reset_index()\n",
        "potential_dupes['Score'] = potential_dupes.loc[:, 'City':'Hosp_Address'].sum(axis=1)"
      ],
      "execution_count": null,
      "outputs": []
    },
    {
      "cell_type": "code",
      "metadata": {
        "id": "f7XsNFUMUY0d",
        "colab": {
          "base_uri": "https://localhost:8080/"
        },
        "outputId": "490ebcd7-cd8a-4a7f-ef9f-b9cea26a4cca"
      },
      "source": [
        "print(potential_dupes)"
      ],
      "execution_count": null,
      "outputs": [
        {
          "output_type": "stream",
          "text": [
            "     Account_Num_1  Account_Num_2  City  ...  Hosp_Name  Hosp_Address  Score\n",
            "0            82869          52690   1.0  ...        0.0           1.0    2.0\n",
            "1            57289          26270   1.0  ...        1.0           0.0    2.0\n",
            "2            21838          70883   1.0  ...        0.0           0.0    2.0\n",
            "3            39717          77788   1.0  ...        0.0           1.0    2.0\n",
            "4            39717          61353   1.0  ...        0.0           0.0    2.0\n",
            "..             ...            ...   ...  ...        ...           ...    ...\n",
            "208          78300          80984   1.0  ...        0.0           0.0    2.0\n",
            "209          74177          50721   1.0  ...        0.0           0.0    2.0\n",
            "210          65652          54940   1.0  ...        0.0           0.0    2.0\n",
            "211          65652          71903   1.0  ...        1.0           0.0    2.0\n",
            "212          89851          77850   1.0  ...        0.0           0.0    2.0\n",
            "\n",
            "[213 rows x 7 columns]\n"
          ],
          "name": "stdout"
        }
      ]
    },
    {
      "cell_type": "markdown",
      "metadata": {
        "id": "sWKu4kmWUrmR"
      },
      "source": [
        "RECORD LINKAGE IS STARTING FROM HERE\n"
      ]
    },
    {
      "cell_type": "code",
      "metadata": {
        "id": "j5h_aN-OYAjl"
      },
      "source": [
        "dataset1 = pd.read_csv('hospital_account_info.csv')"
      ],
      "execution_count": 85,
      "outputs": []
    },
    {
      "cell_type": "code",
      "metadata": {
        "id": "HFxHlDxMYLxT"
      },
      "source": [
        "dataset2 = pd.read_csv('hospital_reimbursement.csv')"
      ],
      "execution_count": 86,
      "outputs": []
    },
    {
      "cell_type": "code",
      "metadata": {
        "id": "jBhzNkyui7eg"
      },
      "source": [
        "df_a = pd.DataFrame(dataset1)\n",
        "df_b = pd.DataFrame(dataset2)"
      ],
      "execution_count": 87,
      "outputs": []
    },
    {
      "cell_type": "code",
      "metadata": {
        "id": "75qKtd74FmLn"
      },
      "source": [
        "indexer = recordlinkage.Index()\n",
        "indexer.block('Provider_Num', 'Provider_Num')\n",
        "candidate_links = indexer.index(df_a, df_b)\n",
        "c = recordlinkage.Compare()\n"
      ],
      "execution_count": 88,
      "outputs": []
    },
    {
      "cell_type": "code",
      "metadata": {
        "colab": {
          "base_uri": "https://localhost:8080/"
        },
        "id": "DhGq32vH4E1D",
        "outputId": "9b58e897-d114-4e0c-c69d-1de9c55dad38"
      },
      "source": [
        "indexer = recordlinkage.Index()\n",
        "indexer.full()\n",
        "candidate_links = indexer.index(df_a, df_b)\n",
        "c = recordlinkage.Compare()"
      ],
      "execution_count": 74,
      "outputs": [
        {
          "output_type": "stream",
          "text": [
            "WARNING:recordlinkage:indexing - performance warning - A full index can result in large number of record pairs.\n"
          ],
          "name": "stdout"
        }
      ]
    },
    {
      "cell_type": "code",
      "metadata": {
        "id": "IXz0O36FJk2Z"
      },
      "source": [
        "# Comparison step - DO NOT EXECUTE\n",
        "\n",
        "c.string('surname', 'surname', method='jarowinkler', threshold=0.85, label='surname')\n",
        "c.exact('date_of_birth', 'date_of_birth', label='date_of_birth')\n",
        "c.exact('suburb', 'suburb', label='suburb')\n",
        "c.exact('state', 'state', label='state')\n",
        "c.string('address_1', 'address_1', threshold=0.85, label='address_1')\n",
        "\n",
        "features = compare_cl.compute(candidate_links, dfA, dfB)"
      ],
      "execution_count": null,
      "outputs": []
    },
    {
      "cell_type": "code",
      "metadata": {
        "colab": {
          "base_uri": "https://localhost:8080/"
        },
        "id": "m22QX7O948Fk",
        "outputId": "836563a7-7676-489c-89bf-8345160133b7"
      },
      "source": [
        "c.string('Facility_Name', 'Provider_Name', method='jarowinkler', threshold=0.85,label='Facility_Name')"
      ],
      "execution_count": 89,
      "outputs": [
        {
          "output_type": "execute_result",
          "data": {
            "text/plain": [
              "<Compare>"
            ]
          },
          "metadata": {
            "tags": []
          },
          "execution_count": 89
        }
      ]
    },
    {
      "cell_type": "code",
      "metadata": {
        "colab": {
          "base_uri": "https://localhost:8080/"
        },
        "id": "Sgf4YjfP_Sp4",
        "outputId": "1c6c3046-208b-4f5e-a854-31287bdaa290"
      },
      "source": [
        "c.numeric('ZIP_Code', 'Provider_Zip_Code',label='ZIP_Code')"
      ],
      "execution_count": 90,
      "outputs": [
        {
          "output_type": "execute_result",
          "data": {
            "text/plain": [
              "<Compare>"
            ]
          },
          "metadata": {
            "tags": []
          },
          "execution_count": 90
        }
      ]
    },
    {
      "cell_type": "code",
      "metadata": {
        "colab": {
          "base_uri": "https://localhost:8080/"
        },
        "id": "Xx2Q_UD-QKWr",
        "outputId": "0e76073d-3b89-4028-8b82-eaac63b54c02"
      },
      "source": [
        "c.numeric('Provider_Num', 'Provider_Num',label='Provider_Num')"
      ],
      "execution_count": 91,
      "outputs": [
        {
          "output_type": "execute_result",
          "data": {
            "text/plain": [
              "<Compare>"
            ]
          },
          "metadata": {
            "tags": []
          },
          "execution_count": 91
        }
      ]
    },
    {
      "cell_type": "code",
      "metadata": {
        "colab": {
          "base_uri": "https://localhost:8080/"
        },
        "id": "7OqgXvsxO434",
        "outputId": "34f8d586-a3ea-4dd8-b1e8-b2840d9ac0f6"
      },
      "source": [
        "c.exact('State', 'Provider_State', label='state')"
      ],
      "execution_count": 92,
      "outputs": [
        {
          "output_type": "execute_result",
          "data": {
            "text/plain": [
              "<Compare>"
            ]
          },
          "metadata": {
            "tags": []
          },
          "execution_count": 92
        }
      ]
    },
    {
      "cell_type": "markdown",
      "metadata": {
        "id": "rYkBumcn86Vy"
      },
      "source": [
        "didn't run below two 46 an 45\n"
      ]
    },
    {
      "cell_type": "code",
      "metadata": {
        "id": "SJwzJv8i5600"
      },
      "source": [
        "feature_vectors = c.compute(candidate_links, df_a, df_b)"
      ],
      "execution_count": 93,
      "outputs": []
    },
    {
      "cell_type": "code",
      "metadata": {
        "colab": {
          "base_uri": "https://localhost:8080/"
        },
        "id": "z-2sbpfV8Bfy",
        "outputId": "1f10261d-20da-4426-8f39-720ce8a0eff3"
      },
      "source": [
        "print(feature_vectors)"
      ],
      "execution_count": 94,
      "outputs": [
        {
          "output_type": "stream",
          "text": [
            "         Facility_Name  ZIP_Code  Provider_Num  state\n",
            "0   5              0.0       0.0           1.0      0\n",
            "1   6              0.0       0.0           1.0      0\n",
            "2   7              0.0       0.0           1.0      0\n",
            "3   8              0.0       0.0           1.0      0\n",
            "4   9              0.0       0.0           1.0      0\n",
            "...                ...       ...           ...    ...\n",
            "712 717            0.0       0.0           1.0      0\n",
            "713 718            0.0       0.0           1.0      0\n",
            "714 719            0.0       0.0           1.0      0\n",
            "715 720            0.0       0.0           1.0      0\n",
            "716 721            0.0       0.0           1.0      0\n",
            "\n",
            "[717 rows x 4 columns]\n"
          ],
          "name": "stdout"
        }
      ]
    },
    {
      "cell_type": "code",
      "metadata": {
        "id": "UNp0p1OO9C7V"
      },
      "source": [
        "ecm = recordlinkage.ECMClassifier()\n"
      ],
      "execution_count": 95,
      "outputs": []
    },
    {
      "cell_type": "code",
      "metadata": {
        "colab": {
          "base_uri": "https://localhost:8080/"
        },
        "id": "QGKWyGTKAs4l",
        "outputId": "84488599-3c14-4e8f-9e25-8ab4762ef2ef"
      },
      "source": [
        "ecm.fit_predict(feature_vectors)"
      ],
      "execution_count": 96,
      "outputs": [
        {
          "output_type": "execute_result",
          "data": {
            "text/plain": [
              "MultiIndex([(321, 326)],\n",
              "           )"
            ]
          },
          "metadata": {
            "tags": []
          },
          "execution_count": 96
        }
      ]
    },
    {
      "cell_type": "code",
      "metadata": {
        "colab": {
          "base_uri": "https://localhost:8080/"
        },
        "id": "AOZnnDtOT8MC",
        "outputId": "b58d8b9a-1b98-4fdd-f2cf-ed9f29d6dae3"
      },
      "source": [
        "df_a.loc[321]"
      ],
      "execution_count": 101,
      "outputs": [
        {
          "output_type": "execute_result",
          "data": {
            "text/plain": [
              "Provider_Num                                             345997\n",
              "Facility_Name         KAISER FOUNDATION HOSPITAL - REDWOOD CITY\n",
              "Address                                 1100 VETERANS BOULEVARD\n",
              "City                                               REDWOOD CITY\n",
              "State                                                        CA\n",
              "ZIP_Code                                                  94063\n",
              "County_Name                                           SAN MATEO\n",
              "Phone_Number                                     (650) 299-2000\n",
              "Hospital_Type                              Acute Care Hospitals\n",
              "Hospital_Ownership               Voluntary non-profit - Private\n",
              "Name: 321, dtype: object"
            ]
          },
          "metadata": {
            "tags": []
          },
          "execution_count": 101
        }
      ]
    },
    {
      "cell_type": "code",
      "metadata": {
        "colab": {
          "base_uri": "https://localhost:8080/"
        },
        "id": "hkPOXySDUZNw",
        "outputId": "3b958f7a-b15d-4f99-dd94-ab1963b46f3e"
      },
      "source": [
        "df_b.loc[326]"
      ],
      "execution_count": 102,
      "outputs": [
        {
          "output_type": "execute_result",
          "data": {
            "text/plain": [
              "Provider_Num                                                 345997\n",
              "Provider_Name                KAISER FOUNDATION HOSPITAL - SAN DIEGO\n",
              "Address                                               4647 ZION AVE\n",
              "Provider_City                                             SAN DIEGO\n",
              "Provider_State                                                   CA\n",
              "Provider_Zip_Code                                             92120\n",
              "Total_Discharges                                                 29\n",
              "Average_Covered_Charges                                     35732.7\n",
              "Average_Total_Payments                                      10634.4\n",
              "Average_Medicare_Payments                                    5235.9\n",
              "Name: 326, dtype: object"
            ]
          },
          "metadata": {
            "tags": []
          },
          "execution_count": 102
        }
      ]
    }
  ]
}